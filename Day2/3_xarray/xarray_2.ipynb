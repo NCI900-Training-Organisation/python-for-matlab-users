{
 "cells": [
  {
   "cell_type": "code",
   "execution_count": null,
   "id": "d4a7f2eb-7e8b-40d8-97a7-f96e87bcdbcd",
   "metadata": {},
   "outputs": [],
   "source": [
    "import os\n",
    "# The jupyter notebook is launched from your $HOME directory.\n",
    "# Change the working directory to the workshop directory\n",
    "# which was created in your username directory under /scratch/vp91\n",
    "os.chdir(os.path.expandvars(\"/scratch/vp91/$USER/\"))"
   ]
  },
  {
   "cell_type": "markdown",
   "id": "b1cdd0e6",
   "metadata": {},
   "source": [
    "# Datasets and grouping \n",
    "\n",
    "The functionality we have covered so far is fantastic, but what if we want to group arrays together in some kind of coherent way?\n",
    "\n",
    "Don't worry `xarray` has us covered with a `Dataset`. Lets make a few arrays and combine them in a dataset."
   ]
  },
  {
   "cell_type": "code",
   "execution_count": null,
   "id": "cacaa407",
   "metadata": {},
   "outputs": [],
   "source": [
    "import numpy as np"
   ]
  },
  {
   "cell_type": "markdown",
   "id": "a7d29024",
   "metadata": {},
   "source": [
    "## One dimensional example\n",
    "\n",
    "We are going to start with a dataset that shares a single dimension just to get the hang of how datasets work.\n",
    "\n",
    "Our problem statement is that have several harmonic oscillator, modelling several springs, and we want to keep track of their motion over time. The motion of a harmonic oscillator is given by:\n",
    "\n",
    "$ x(t) = A cos({\\omega t + \\phi}) $\n",
    "\n",
    "Where $A$ is the amplitude, $\\omega$ is the angular frequency and $\\phi$ is the phase shift. These values are determined by the initial positions and velocities of the spring as well as the mass and stiffness of  the spring, but lets not get too into that, the primary purpose here is to learn how we are going to deal with our dataset using xarray!\n",
    "\n",
    "First lets define a function that propogates our harmonic oscillator over time:"
   ]
  },
  {
   "cell_type": "code",
   "execution_count": null,
   "id": "3b5f2800",
   "metadata": {},
   "outputs": [],
   "source": [
    "def harmonic(A,t,omega,phi):\n",
    "    x_t = A*np.cos(omega*t + phi)\n",
    "    return x_t"
   ]
  },
  {
   "cell_type": "markdown",
   "id": "d6c1f344",
   "metadata": {},
   "source": [
    "Okay now lets make a time domain for us to propogate over"
   ]
  },
  {
   "cell_type": "code",
   "execution_count": null,
   "id": "5654bce2",
   "metadata": {
    "scrolled": true
   },
   "outputs": [],
   "source": [
    "npoints = 1000\n",
    "time_domain = xr.DataArray(np.arange(npoints), dims=(\"t\"), coords={\"t\":np.arange(npoints)})\n",
    "time_domain"
   ]
  },
  {
   "cell_type": "code",
   "execution_count": null,
   "id": "a9b7994e",
   "metadata": {},
   "outputs": [],
   "source": [
    "#initial conditions\n",
    "A = 100\n",
    "omega = 0.1\n",
    "phi = 0.1\n"
   ]
  },
  {
   "cell_type": "markdown",
   "id": "f6ab5719",
   "metadata": {},
   "source": [
    "Once again we use the very handy `xr.apply_ufunc` to apply our function in a vectorised way accross our domain."
   ]
  },
  {
   "cell_type": "code",
   "execution_count": null,
   "id": "520ea1df",
   "metadata": {},
   "outputs": [],
   "source": [
    "result = xr.apply_ufunc(harmonic,A,time_domain.t,omega,phi)\n",
    "result.plot()"
   ]
  },
  {
   "cell_type": "markdown",
   "id": "35e59b66",
   "metadata": {},
   "source": [
    "### Challenge\n",
    "\n",
    "Try with some different intitial conditions."
   ]
  },
  {
   "cell_type": "markdown",
   "id": "dd0c8750",
   "metadata": {},
   "source": [
    "Okay cool! That looks a lot like harmonic oscillation. Now lets make a **collection** of them with random intial conditions!"
   ]
  },
  {
   "cell_type": "code",
   "execution_count": null,
   "id": "2defa2d6",
   "metadata": {},
   "outputs": [],
   "source": [
    "oscillators = {}\n",
    "\n",
    "n_oscillators = 100\n",
    "\n",
    "for i in range(n_oscillators):\n",
    "    \n",
    "    #initial conditions\n",
    "    A = np.random.rand()*100\n",
    "    omega = np.random.rand()\n",
    "    phi = np.random.rand()\n",
    "    \n",
    "    # apply over array\n",
    "    result = xr.apply_ufunc(harmonic,A,time_domain.t,omega,phi)\n",
    "    \n",
    "    # add metadata\n",
    "    result.attrs[\"A\"] = A\n",
    "    result.attrs[\"phi\"] = phi\n",
    "    result.attrs[\"omega\"] = omega\n",
    "    \n",
    "    tag = \"oscillator_\" + str(i)\n",
    "    oscillators[tag] = result"
   ]
  },
  {
   "cell_type": "markdown",
   "id": "29c35102",
   "metadata": {},
   "source": [
    "Lets plot an oscillator in our dictionary of oscillators"
   ]
  },
  {
   "cell_type": "code",
   "execution_count": null,
   "id": "6b4a7681",
   "metadata": {},
   "outputs": [],
   "source": [
    "oscillators[\"oscillator_6\"].plot()"
   ]
  },
  {
   "cell_type": "markdown",
   "id": "5b6b64dc",
   "metadata": {},
   "source": [
    "Okay this is good but our oscillators actually the **same time axis**. This is the core of the xarray dataset concept, arrays with the same **named dimensions** share a coordinate system. \n",
    "\n",
    "Lets turn our `dict` of oscillators into a `DataSet` and play around with it a bit. Make sure to expand the `Data Variables` tab to have a look at our 100 oscillators."
   ]
  },
  {
   "cell_type": "code",
   "execution_count": null,
   "id": "2eca444c",
   "metadata": {},
   "outputs": [],
   "source": [
    "dataset = xr.Dataset(data_vars=oscillators)\n",
    "dataset"
   ]
  },
  {
   "cell_type": "code",
   "execution_count": null,
   "id": "2aa47a88",
   "metadata": {},
   "outputs": [],
   "source": [
    "dataset[\"oscillator_6\"] # a dataset is a dictionary-like container"
   ]
  },
  {
   "cell_type": "markdown",
   "id": "4fe0d927",
   "metadata": {},
   "source": [
    "Note that we recorded the values of our variables in our model as `attrs` on each `DataArray`"
   ]
  },
  {
   "cell_type": "code",
   "execution_count": null,
   "id": "98126bce",
   "metadata": {},
   "outputs": [],
   "source": [
    "dataset.oscillator_6.plot()"
   ]
  },
  {
   "cell_type": "markdown",
   "id": "f33820c2",
   "metadata": {},
   "source": [
    "Ok cool, we can play with our dataset nicely.\n",
    "\n",
    "Now lets use the power of the `Dataset` and its shared coordinate axes. We are going to find the largest oscillator positions away from the equilibrium position (0) accross **all of our oscillators**."
   ]
  },
  {
   "cell_type": "code",
   "execution_count": null,
   "id": "2343b385",
   "metadata": {},
   "outputs": [],
   "source": [
    "# works across our 100 arrays\n",
    "np.abs(dataset).max()"
   ]
  },
  {
   "cell_type": "markdown",
   "id": "3ae2571f",
   "metadata": {},
   "source": [
    "### Challenge\n",
    "\n",
    "Perform a transformation on our dataset by taking the `sin` of our dataset and plotting an oscillator"
   ]
  },
  {
   "cell_type": "code",
   "execution_count": null,
   "id": "33faa50d",
   "metadata": {},
   "outputs": [],
   "source": [
    "# Perform a transformation on our dataset by taking the sin of our dataset and plotting an oscillator"
   ]
  },
  {
   "cell_type": "markdown",
   "id": "89b3bf2f",
   "metadata": {},
   "source": [
    "<details><summary><b>Solution</b></summary>\n",
    "   <pre>\n",
    "    <br> np.sin(dataset).oscillator_1.plot()\n",
    "   </pre>\n",
    "</details>"
   ]
  },
  {
   "cell_type": "markdown",
   "id": "7a6addd6",
   "metadata": {},
   "source": [
    "Awesome work! We now know how to work with a `Dataset`, even if this one is rather simple and only has one shared dimension. We will soon work with one that has more complexity and more shared dimensions. \n",
    "\n",
    "We can save our dataset to a netcdf file using a similar API to what we used for a `DataArray`"
   ]
  },
  {
   "cell_type": "code",
   "execution_count": null,
   "id": "ff0cd4e4",
   "metadata": {},
   "outputs": [],
   "source": [
    "dataset.to_netcdf(\"oscillators.nc\")"
   ]
  },
  {
   "cell_type": "code",
   "execution_count": null,
   "id": "94ea4d1d",
   "metadata": {},
   "outputs": [],
   "source": [
    "reloaded = xr.open_dataset(\"oscillators.nc\")"
   ]
  },
  {
   "cell_type": "code",
   "execution_count": null,
   "id": "9abf45be",
   "metadata": {},
   "outputs": [],
   "source": [
    "reloaded[\"oscillator_6\"]"
   ]
  },
  {
   "cell_type": "markdown",
   "id": "224e6d74",
   "metadata": {},
   "source": [
    "## Conclusion\n",
    "\n",
    "Now you know how to use a `Dataset`! We are going to look at a more complex dataset example now.\n",
    "\n"
   ]
  },
  {
   "cell_type": "code",
   "execution_count": null,
   "id": "ce4562f6-1994-4dc6-a0b6-3ac6cb36ce90",
   "metadata": {},
   "outputs": [],
   "source": []
  }
 ],
 "metadata": {
  "kernelspec": {
   "display_name": "Python 3 (ipykernel)",
   "language": "python",
   "name": "python3"
  },
  "language_info": {
   "codemirror_mode": {
    "name": "ipython",
    "version": 3
   },
   "file_extension": ".py",
   "mimetype": "text/x-python",
   "name": "python",
   "nbconvert_exporter": "python",
   "pygments_lexer": "ipython3",
   "version": "3.9.2"
  }
 },
 "nbformat": 4,
 "nbformat_minor": 5
}
